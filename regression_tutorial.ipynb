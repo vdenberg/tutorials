{
  "nbformat": 4,
  "nbformat_minor": 0,
  "metadata": {
    "colab": {
      "name": "regression_tutorial.ipynb",
      "version": "0.3.2",
      "provenance": [],
      "collapsed_sections": []
    },
    "language_info": {
      "codemirror_mode": {
        "name": "ipython",
        "version": 3
      },
      "file_extension": ".py",
      "mimetype": "text/x-python",
      "name": "python",
      "nbconvert_exporter": "python",
      "pygments_lexer": "ipython3",
      "version": "3.6.8"
    },
    "kernelspec": {
      "display_name": "Python 3",
      "language": "python",
      "name": "python3"
    }
  },
  "cells": [
    {
      "cell_type": "markdown",
      "metadata": {
        "id": "4g4GIdGykuJu",
        "colab_type": "text"
      },
      "source": [
        "# Linear Regression\n",
        "\n",
        "If we are trying to model or predict continuous output based on a continuous dependent variable that we presume to have a linear relationship with the output, Linear Regression can accomplish that for us.\n",
        "\n",
        "Linear regression comes in two flavours:\n",
        "\n",
        "* Simple Linear Regression\n",
        "* Multiple Linear Regression\n",
        "\n",
        "In the trustee sciki-learn package, both types of regression can be applied using the same class, so we will discuss both together in this tutorial. "
      ]
    },
    {
      "cell_type": "code",
      "metadata": {
        "id": "1Q1WX3KRkuJ1",
        "colab_type": "code",
        "outputId": "eb073bb8-4fdd-47e8-f457-a651372fe7a7",
        "colab": {}
      },
      "source": [
        "# data handling\n",
        "import numpy as np\n",
        "import pandas as pd\n",
        "\n",
        "# plotting\n",
        "import matplotlib.pyplot as plt\n",
        "import seaborn as sns\n",
        "\n",
        "# modeling\n",
        "from sklearn.linear_model import LinearRegression\n",
        "\n",
        "# data\n",
        "\n",
        "data = pd.read_csv(\"\")\n",
        "data.head()"
      ],
      "execution_count": 0,
      "outputs": [
        {
          "output_type": "execute_result",
          "data": {
            "text/html": [
              "<div>\n",
              "<style scoped>\n",
              "    .dataframe tbody tr th:only-of-type {\n",
              "        vertical-align: middle;\n",
              "    }\n",
              "\n",
              "    .dataframe tbody tr th {\n",
              "        vertical-align: top;\n",
              "    }\n",
              "\n",
              "    .dataframe thead th {\n",
              "        text-align: right;\n",
              "    }\n",
              "</style>\n",
              "<table border=\"1\" class=\"dataframe\">\n",
              "  <thead>\n",
              "    <tr style=\"text-align: right;\">\n",
              "      <th></th>\n",
              "      <th>YearsExperience</th>\n",
              "      <th>Salary</th>\n",
              "    </tr>\n",
              "  </thead>\n",
              "  <tbody>\n",
              "    <tr>\n",
              "      <th>0</th>\n",
              "      <td>1.1</td>\n",
              "      <td>39343.0</td>\n",
              "    </tr>\n",
              "    <tr>\n",
              "      <th>1</th>\n",
              "      <td>1.3</td>\n",
              "      <td>46205.0</td>\n",
              "    </tr>\n",
              "    <tr>\n",
              "      <th>2</th>\n",
              "      <td>1.5</td>\n",
              "      <td>37731.0</td>\n",
              "    </tr>\n",
              "    <tr>\n",
              "      <th>3</th>\n",
              "      <td>2.0</td>\n",
              "      <td>43525.0</td>\n",
              "    </tr>\n",
              "    <tr>\n",
              "      <th>4</th>\n",
              "      <td>2.2</td>\n",
              "      <td>39891.0</td>\n",
              "    </tr>\n",
              "  </tbody>\n",
              "</table>\n",
              "</div>"
            ],
            "text/plain": [
              "   YearsExperience   Salary\n",
              "0              1.1  39343.0\n",
              "1              1.3  46205.0\n",
              "2              1.5  37731.0\n",
              "3              2.0  43525.0\n",
              "4              2.2  39891.0"
            ]
          },
          "metadata": {
            "tags": []
          },
          "execution_count": 3
        }
      ]
    },
    {
      "cell_type": "markdown",
      "metadata": {
        "id": "OwlGYAn8kuKN",
        "colab_type": "text"
      },
      "source": [
        "We will rename the columns to x and y for simplicity."
      ]
    },
    {
      "cell_type": "code",
      "metadata": {
        "id": "gDTQhdmwkuKQ",
        "colab_type": "code",
        "outputId": "15273511-79c3-4c7b-d7cb-0354852767c9",
        "colab": {}
      },
      "source": [
        "x = data.iloc[:,:1].values\n",
        "y = data.iloc[:,-1].values"
      ],
      "execution_count": 0,
      "outputs": [
        {
          "output_type": "execute_result",
          "data": {
            "text/plain": [
              "array([[1.3],\n",
              "       [1.5],\n",
              "       [2. ],\n",
              "       [2.2]])"
            ]
          },
          "metadata": {
            "tags": []
          },
          "execution_count": 4
        }
      ]
    },
    {
      "cell_type": "markdown",
      "metadata": {
        "id": "5sEu2uCakuKl",
        "colab_type": "text"
      },
      "source": [
        "Below we have a scatter plot of the data points. We can observe that the more years of experience an employee has, the higher their salary. \n",
        "This is a linear relationship that can be estimated with simple linear relationship."
      ]
    },
    {
      "cell_type": "code",
      "metadata": {
        "id": "YqEThPNkkuKm",
        "colab_type": "code",
        "outputId": "4b2b4b5d-d3bc-4cfd-da28-ef08cb7a00bf",
        "colab": {
          "base_uri": "https://localhost:8080/",
          "height": 232
        }
      },
      "source": [
        "plt.scatter(x,y,color = 'b')\n",
        "plt.title('Salary v/s YearsExperience')\n",
        "plt.xlabel('YearsExperience')\n",
        "plt.ylabel('Salary')\n",
        "plt.show()"
      ],
      "execution_count": 1,
      "outputs": [
        {
          "output_type": "error",
          "ename": "NameError",
          "evalue": "ignored",
          "traceback": [
            "\u001b[0;31m---------------------------------------------------------------------------\u001b[0m",
            "\u001b[0;31mNameError\u001b[0m                                 Traceback (most recent call last)",
            "\u001b[0;32m<ipython-input-1-d445b69c576a>\u001b[0m in \u001b[0;36m<module>\u001b[0;34m()\u001b[0m\n\u001b[0;32m----> 1\u001b[0;31m \u001b[0mplt\u001b[0m\u001b[0;34m.\u001b[0m\u001b[0mscatter\u001b[0m\u001b[0;34m(\u001b[0m\u001b[0mx\u001b[0m\u001b[0;34m,\u001b[0m\u001b[0my\u001b[0m\u001b[0;34m,\u001b[0m\u001b[0mcolor\u001b[0m \u001b[0;34m=\u001b[0m \u001b[0;34m'b'\u001b[0m\u001b[0;34m)\u001b[0m\u001b[0;34m\u001b[0m\u001b[0;34m\u001b[0m\u001b[0m\n\u001b[0m\u001b[1;32m      2\u001b[0m \u001b[0mplt\u001b[0m\u001b[0;34m.\u001b[0m\u001b[0mtitle\u001b[0m\u001b[0;34m(\u001b[0m\u001b[0;34m'Salary v/s YearsExperience'\u001b[0m\u001b[0;34m)\u001b[0m\u001b[0;34m\u001b[0m\u001b[0;34m\u001b[0m\u001b[0m\n\u001b[1;32m      3\u001b[0m \u001b[0mplt\u001b[0m\u001b[0;34m.\u001b[0m\u001b[0mxlabel\u001b[0m\u001b[0;34m(\u001b[0m\u001b[0;34m'YearsExperience'\u001b[0m\u001b[0;34m)\u001b[0m\u001b[0;34m\u001b[0m\u001b[0;34m\u001b[0m\u001b[0m\n\u001b[1;32m      4\u001b[0m \u001b[0mplt\u001b[0m\u001b[0;34m.\u001b[0m\u001b[0mylabel\u001b[0m\u001b[0;34m(\u001b[0m\u001b[0;34m'Salary'\u001b[0m\u001b[0;34m)\u001b[0m\u001b[0;34m\u001b[0m\u001b[0;34m\u001b[0m\u001b[0m\n\u001b[1;32m      5\u001b[0m \u001b[0mplt\u001b[0m\u001b[0;34m.\u001b[0m\u001b[0mshow\u001b[0m\u001b[0;34m(\u001b[0m\u001b[0;34m)\u001b[0m\u001b[0;34m\u001b[0m\u001b[0;34m\u001b[0m\u001b[0m\n",
            "\u001b[0;31mNameError\u001b[0m: name 'plt' is not defined"
          ]
        }
      ]
    },
    {
      "cell_type": "code",
      "metadata": {
        "id": "EdXkF5MpkuKu",
        "colab_type": "code",
        "outputId": "24496223-4041-42a1-b0cf-c03707b43223",
        "colab": {}
      },
      "source": [
        "# create an empty linear regression model\n",
        "salary_model = LinearRegression()\n",
        "\n",
        "# determine values for the model using the fit method\n",
        "salary_model.fit(x,y)"
      ],
      "execution_count": 0,
      "outputs": [
        {
          "output_type": "execute_result",
          "data": {
            "text/plain": [
              "LinearRegression(copy_X=True, fit_intercept=True, n_jobs=None,\n",
              "         normalize=False)"
            ]
          },
          "metadata": {
            "tags": []
          },
          "execution_count": 10
        }
      ]
    },
    {
      "cell_type": "markdown",
      "metadata": {
        "id": "CcFtzhaXkuKy",
        "colab_type": "text"
      },
      "source": [
        "Using the fitted model we can make predictions along a line. Below these predictions are shown in red, and the obversed values are in blue. "
      ]
    },
    {
      "cell_type": "code",
      "metadata": {
        "id": "jqJCOO3NkuKz",
        "colab_type": "code",
        "outputId": "696ea5c2-65ef-43a1-96ab-8b97f5006a04",
        "colab": {}
      },
      "source": [
        "y_pred = salary_model.predict(x)\n",
        "plt.scatter(x,y,color = 'b')\n",
        "plt.plot(x,salary_model.predict(x),color = 'r')\n",
        "plt.title('Salary v/s YearsExperience')\n",
        "plt.xlabel('Salary')\n",
        "plt.ylabel('YearsExperience')\n",
        "plt.show()"
      ],
      "execution_count": 0,
      "outputs": [
        {
          "output_type": "display_data",
          "data": {
            "image/png": "[encoded data removed]",
            "text/plain": [
              "<Figure size 432x288 with 1 Axes>"
            ]
          },
          "metadata": {
            "tags": [],
            "needs_background": "light"
          }
        }
      ]
    },
    {
      "cell_type": "code",
      "metadata": {
        "id": "9BaRMMgBkuK3",
        "colab_type": "code",
        "outputId": "6c424be7-2100-4769-f57b-8c50b7e31722",
        "colab": {}
      },
      "source": [
        "# The coefficients\n",
        "print('Coefficients: \\n', salary_model.coef_)"
      ],
      "execution_count": 0,
      "outputs": [
        {
          "output_type": "stream",
          "text": [
            "Coefficients: \n",
            " [9449.96232146]\n"
          ],
          "name": "stdout"
        }
      ]
    }
  ]
}