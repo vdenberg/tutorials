{
  "nbformat": 4,
  "nbformat_minor": 0,
  "metadata": {
    "colab": {
      "name": "regression_tutorial.ipynb",
      "provenance": [],
      "collapsed_sections": []
    },
    "language_info": {
      "codemirror_mode": {
        "name": "ipython",
        "version": 3
      },
      "file_extension": ".py",
      "mimetype": "text/x-python",
      "name": "python",
      "nbconvert_exporter": "python",
      "pygments_lexer": "ipython3",
      "version": "3.6.8"
    },
    "kernelspec": {
      "display_name": "Python 3",
      "language": "python",
      "name": "python3"
    }
  },
  "cells": [
    {
      "cell_type": "markdown",
      "metadata": {
        "id": "4g4GIdGykuJu"
      },
      "source": [
        "# Linear Regression\n",
        "\n",
        "Linear Regression is one of the most common and elementary predictive methods in the arsenal of a (computational) social scientist or data scientist.\n",
        "We should consider using this method if we want to be able to \n",
        "predict continuous output based on a continuous independent variable, and if we \n",
        "have good reason to believe the relationship between the two continuous variables is linear (i.e. as the value of x increases, y increases or decreases proportionally). \n",
        "\n",
        "There are two types of linear regression:\n",
        "\n",
        "* Simple Linear Regression\n",
        "* Multiple Linear Regression\n",
        "\n",
        "Both can be implemented using the Python library scikit-learn.\n",
        "We will practice using the relevant scikit-learn class on a dataset that contains returns of Istanbul Stock Exchange. \n"
      ]
    },
    {
      "cell_type": "code",
      "metadata": {
        "colab": {
          "base_uri": "https://localhost:8080/"
        },
        "id": "80lHdo4ItKSe",
        "outputId": "cb8ce742-38a1-41a9-ebed-dec0efee631a"
      },
      "source": [
        "import pandas as pd\n",
        "\n",
        "# pandas allows reading of .csv files from a url\n",
        "istanbul_stock_exchange = pd.read_excel('https://archive.ics.uci.edu/ml/machine-learning-databases/00247/data_akbilgic.xlsx', header=1)\n",
        "\n",
        "# The target variable is given based on USD (ISE.1) and Turkish lira (ISE). \n",
        "# We keep only one. \n",
        "istanbul_stock_exchange = istanbul_stock_exchange.drop('ISE.1', axis=1)\n",
        "print(istanbul_stock_exchange.head())"
      ],
      "execution_count": 20,
      "outputs": [
        {
          "output_type": "stream",
          "text": [
            "        date       ISE        SP  ...   BOVESPA        EU        EM\n",
            "0 2009-01-05  0.035754 -0.004679  ...  0.031190  0.012698  0.028524\n",
            "1 2009-01-06  0.025426  0.007787  ...  0.018920  0.011341  0.008773\n",
            "2 2009-01-07 -0.028862 -0.030469  ... -0.035899 -0.017073 -0.020015\n",
            "3 2009-01-08 -0.062208  0.003391  ...  0.028283 -0.005561 -0.019424\n",
            "4 2009-01-09  0.009860 -0.021533  ... -0.009764 -0.010989 -0.007802\n",
            "\n",
            "[5 rows x 9 columns]\n"
          ],
          "name": "stdout"
        }
      ]
    },
    {
      "cell_type": "markdown",
      "metadata": {
        "id": "F-vcS4OKwPHq"
      },
      "source": [
        "## Simple Linear Regression\n",
        "\n",
        "Simple Linear Regression involves predicting output using only one independent variable. \n",
        "\n",
        "The formula for simple linear regression is:\n",
        "\n",
        "$$y = \\alpha + \\beta x$$\n",
        "\n",
        "We want to determine the value for the model parameters $\\alpha$ and $\\beta$ based on our data.\n",
        "The value for $\\beta$ is our _regression coefficients_, which specifies the relationship between the independent variable $x$ and the outcome variable $y$.\n",
        "\n",
        "Let's say we suspect that some other stock indexes are better predictors of the Istanbul returns than others, and we want to model the relationship of the ISE values with the stock exchange that is the most closely related to it.\n",
        "We can find out which independent variable is likely to be a good predictor by \n",
        "looking at the correlations between the variables. "
      ]
    },
    {
      "cell_type": "code",
      "metadata": {
        "colab": {
          "base_uri": "https://localhost:8080/"
        },
        "id": "1Vl7ffXb2kok",
        "outputId": "7b02398f-a62b-421b-fd0d-1205dc3042be"
      },
      "source": [
        "# pandas corr() function tells us the \n",
        "# correlations between all variables in the data\n",
        "all_corr = istanbul_stock_exchange.corr()\n",
        "corr_with_ise = all_corr['ISE']\n",
        "\n",
        "# we're curious which variables correlate most strongly, \n",
        "# irrespective of the direction of the relationship.\n",
        "corr_with_ise = corr_with_ise.apply(abs)\n",
        "sorted_corr = corr_with_ise.sort_values()\n",
        "print(sorted_corr)"
      ],
      "execution_count": 21,
      "outputs": [
        {
          "output_type": "stream",
          "text": [
            "NIKKEI     0.260052\n",
            "BOVESPA    0.432898\n",
            "SP         0.439489\n",
            "EM         0.600295\n",
            "DAX        0.602081\n",
            "FTSE       0.622948\n",
            "EU         0.655519\n",
            "ISE        1.000000\n",
            "Name: ISE, dtype: float64\n"
          ],
          "name": "stdout"
        }
      ]
    },
    {
      "cell_type": "markdown",
      "metadata": {
        "id": "ULuU0I3k35Kf"
      },
      "source": [
        "It turns out EM, which is the MSCI Emerging Markets Index, correlates most strongly with our target variable.\n",
        "Let's look more closely at the relationship between EM and ISE."
      ]
    },
    {
      "cell_type": "code",
      "metadata": {
        "colab": {
          "base_uri": "https://localhost:8080/",
          "height": 295
        },
        "id": "N0IOjoJ4wTGX",
        "outputId": "97afe73d-6dae-4e14-9ed0-cb330c72fcbf"
      },
      "source": [
        "import matplotlib.pyplot as plt\n",
        "import seaborn as sns\n",
        "\n",
        "# select the desired variables\n",
        "x = istanbul_stock_exchange['EM']\n",
        "y = istanbul_stock_exchange['ISE']\n",
        "\n",
        "# plot the data\n",
        "plt.scatter(x, y, color='b')\n",
        "plt.title('ISE v/s EM')\n",
        "plt.xlabel('EM')\n",
        "plt.ylabel('ISE')\n",
        "plt.show()"
      ],
      "execution_count": 22,
      "outputs": [
        {
          "output_type": "display_data",
          "data": {
            "image/png": "[encoded data removed]",
            "text/plain": [
              "<Figure size 432x288 with 1 Axes>"
            ]
          },
          "metadata": {
            "tags": [],
            "needs_background": "light"
          }
        }
      ]
    },
    {
      "cell_type": "markdown",
      "metadata": {
        "id": "CLXuKzMA4HOu"
      },
      "source": [
        "We can see a pattern in the scatter plot where higher values of X correspond to higher values of Y. \n",
        "This is a linear relationship, and so can reasonably try to model it with linear regression.\n",
        "Note that if the scatter plot showed a different pattern, we would be advised to consider other, perhaps non-linear methods.\n",
        "\n",
        "Lets fit our model. Fitting a Linear Regression model is achieved by minimising the _residual sum of squares_. The residual sum of squares described how far away the data is, on average, from the predictions the model makes. \n"
      ]
    },
    {
      "cell_type": "code",
      "metadata": {
        "id": "EdXkF5MpkuKu",
        "colab": {
          "base_uri": "https://localhost:8080/"
        },
        "outputId": "545ab342-1d2e-4981-ec48-faa8f21264ce"
      },
      "source": [
        "from sklearn.linear_model import LinearRegression\n",
        "\n",
        "# create an empty linear regression model\n",
        "simple_linear_model = LinearRegression()\n",
        "\n",
        "# determine values for the model using the fit method\n",
        "x = x.values.reshape(-1, 1)\n",
        "y = y.values.reshape(-1, 1)\n",
        "simple_linear_model.fit(x, y)"
      ],
      "execution_count": 23,
      "outputs": [
        {
          "output_type": "execute_result",
          "data": {
            "text/plain": [
              "LinearRegression(copy_X=True, fit_intercept=True, n_jobs=None, normalize=False)"
            ]
          },
          "metadata": {
            "tags": []
          },
          "execution_count": 23
        }
      ]
    },
    {
      "cell_type": "markdown",
      "metadata": {
        "id": "CcFtzhaXkuKy"
      },
      "source": [
        "Using the fitted model we can make predictions along a line. Below these predictions are shown in red, and the obversed values are in blue. "
      ]
    },
    {
      "cell_type": "code",
      "metadata": {
        "id": "jqJCOO3NkuKz",
        "colab": {
          "base_uri": "https://localhost:8080/",
          "height": 295
        },
        "outputId": "a4518cef-d3a4-48c6-85bd-02f628deb5d6"
      },
      "source": [
        "# generate predictions\n",
        "y_pred = simple_linear_model.predict(x)\n",
        "\n",
        "# plot the data along with the fitted line\n",
        "plt.scatter(x, y, color='b')\n",
        "plt.plot(x, y_pred, color='r')\n",
        "plt.title('ISE v/s EM')\n",
        "plt.xlabel('EM')\n",
        "plt.ylabel('ISE')\n",
        "plt.show()"
      ],
      "execution_count": 24,
      "outputs": [
        {
          "output_type": "display_data",
          "data": {
            "image/png": "[encoded data removed]",
            "text/plain": [
              "<Figure size 432x288 with 1 Axes>"
            ]
          },
          "metadata": {
            "tags": [],
            "needs_background": "light"
          }
        }
      ]
    },
    {
      "cell_type": "code",
      "metadata": {
        "id": "9BaRMMgBkuK3",
        "colab": {
          "base_uri": "https://localhost:8080/"
        },
        "outputId": "2e3a3e57-da6d-4acb-9744-a58edf7d8b2e"
      },
      "source": [
        "# examine the coefficients\n",
        "print('Coefficients: \\n', simple_linear_model.coef_)"
      ],
      "execution_count": 25,
      "outputs": [
        {
          "output_type": "stream",
          "text": [
            "Coefficients: \n",
            " [[0.92974236]]\n"
          ],
          "name": "stdout"
        }
      ]
    },
    {
      "cell_type": "markdown",
      "metadata": {
        "id": "WokXo_DH5jrJ"
      },
      "source": [
        "## Multiple Linear Regression\n",
        "\n",
        "If we want to try to make better predictions by including more than one variable in our model, we can perform Multiple Linear Regression.\n",
        "\n",
        "The corresponding formula is:\n",
        "$$y = \\alpha + \\beta_1 x_1 + ... + \\beta_n x_n$$\n",
        "where $n$ is the total number of variables. Fitting the model now involves determining values for the parameters corresponding to each variable. \n",
        "\n",
        "In our example case, we can fit a model that takes into account the London, Berlin and European stock exchange values, and examine the coefficients associated with these exchanges."
      ]
    },
    {
      "cell_type": "code",
      "metadata": {
        "colab": {
          "base_uri": "https://localhost:8080/"
        },
        "id": "Gdv3WeKF5r06",
        "outputId": "90a607cb-c44d-40bf-8b92-92a09e0023c3"
      },
      "source": [
        "all_x = istanbul_stock_exchange[['EM', 'FTSE', 'DAX', 'EU']].values\n",
        "\n",
        "multi_lm = LinearRegression()\n",
        "multi_lm.fit(all_x, y)\n",
        "\n",
        "print('Coefficients: \\n', multi_lm.coef_)"
      ],
      "execution_count": 26,
      "outputs": [
        {
          "output_type": "stream",
          "text": [
            "Coefficients: \n",
            " [[ 0.41483555 -0.03905489 -0.09836084  0.71979084]]\n"
          ],
          "name": "stdout"
        }
      ]
    },
    {
      "cell_type": "markdown",
      "metadata": {
        "id": "22kY-4Hv7zq5"
      },
      "source": [
        "## Evaluation\n",
        "\n",
        "To compare our two models, we can use the R-squared score. This score, also called the coefficient of determination, measures the proportion of the variance in the dependent variable that is predictable from the independent variables. In our case, the scores tell us that involving the European stock indices predicts the target variable a bit better."
      ]
    },
    {
      "cell_type": "code",
      "metadata": {
        "colab": {
          "base_uri": "https://localhost:8080/"
        },
        "id": "JFvESjHT8Jxr",
        "outputId": "0e10c989-0628-45a4-a809-42864629a0a0"
      },
      "source": [
        "simple_r2 = simple_linear_model.score(x, y)\n",
        "multi_r2 = multi_lm.score(all_x, y)\n",
        "\n",
        "print(simple_r2, multi_r2)"
      ],
      "execution_count": 27,
      "outputs": [
        {
          "output_type": "stream",
          "text": [
            "0.36035441895766207 0.46569607654680695\n"
          ],
          "name": "stdout"
        }
      ]
    }
  ]
}
