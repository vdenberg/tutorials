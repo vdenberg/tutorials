{
  "nbformat": 4,
  "nbformat_minor": 0,
  "metadata": {
    "colab": {
      "name": "regression_tutorial.ipynb",
      "provenance": [],
      "collapsed_sections": []
    },
    "language_info": {
      "codemirror_mode": {
        "name": "ipython",
        "version": 3
      },
      "file_extension": ".py",
      "mimetype": "text/x-python",
      "name": "python",
      "nbconvert_exporter": "python",
      "pygments_lexer": "ipython3",
      "version": "3.6.8"
    },
    "kernelspec": {
      "display_name": "Python 3",
      "language": "python",
      "name": "python3"
    }
  },
  "cells": [
    {
      "cell_type": "markdown",
      "metadata": {
        "id": "4g4GIdGykuJu"
      },
      "source": [
        "# Linear Regression\n",
        "\n",
        "Linear Regression is one of the most common predictive methods in the arsenal of a (computational) social scientist or data scientist.\n",
        "We should consider using this method if we want to be able to \n",
        "predict continuous output based on a continuous independent variable, and if we \n",
        "have good reason to believe the relationship between the two continuous variables is linear (i.e. as the value of x increases, y increases or decreases proportionally). \n",
        "\n",
        "There are two types of linear:\n",
        "\n",
        "* Simple Linear Regression\n",
        "* Multiple Linear Regression\n",
        "\n",
        "Both can be implemented using the Python library scikit-learn.\n",
        "We will practice using the relevant scikit-learn class on a dataset that contains returns of Istanbul Stock Exchange. Note that the column ISE.1 is USD-based, whereas the column ISE is based on the Turkish lira. "
      ]
    },
    {
      "cell_type": "code",
      "metadata": {
        "colab": {
          "base_uri": "https://localhost:8080/"
        },
        "id": "80lHdo4ItKSe",
        "outputId": "b68530b2-a7d0-4fc7-f36e-599294b16671"
      },
      "source": [
        "import pandas as pd\n",
        "\n",
        "istanbul_stock_exchange = pd.read_excel('https://archive.ics.uci.edu/ml/machine-learning-databases/00247/data_akbilgic.xlsx', header=1)\n",
        "istanbul_stock_exchange = istanbul_stock_exchange.drop('ISE', axis=1)\n",
        "print(istanbul_stock_exchange.head())"
      ],
      "execution_count": null,
      "outputs": [
        {
          "output_type": "stream",
          "text": [
            "        date     ISE.1        SP  ...   BOVESPA        EU        EM\n",
            "0 2009-01-05  0.038376 -0.004679  ...  0.031190  0.012698  0.028524\n",
            "1 2009-01-06  0.031813  0.007787  ...  0.018920  0.011341  0.008773\n",
            "2 2009-01-07 -0.026353 -0.030469  ... -0.035899 -0.017073 -0.020015\n",
            "3 2009-01-08 -0.084716  0.003391  ...  0.028283 -0.005561 -0.019424\n",
            "4 2009-01-09  0.009658 -0.021533  ... -0.009764 -0.010989 -0.007802\n",
            "\n",
            "[5 rows x 9 columns]\n"
          ],
          "name": "stdout"
        }
      ]
    },
    {
      "cell_type": "markdown",
      "metadata": {
        "id": "F-vcS4OKwPHq"
      },
      "source": [
        "## Simple Linear Regression\n",
        "\n",
        "Simple Linear Regression involves predicting output using only one independent variable. \n",
        "Let's say we suspect that some other stock indexes correlate more strongly with the Istanbul returns and are better predictors.\n",
        "We can find out which independent variable is likely to be a good predictor by \n",
        "looking at the correlations between the variables. "
      ]
    },
    {
      "cell_type": "code",
      "metadata": {
        "colab": {
          "base_uri": "https://localhost:8080/"
        },
        "id": "1Vl7ffXb2kok",
        "outputId": "4eec4350-a58c-49ec-c122-0678ef6a2c61"
      },
      "source": [
        "all_corr = istanbul_stock_exchange.corr()\n",
        "corr_with_ise = all_corr['ISE.1']\n",
        "sorted_corr = corr_with_ise.apply(abs).sort_values()\n",
        "print(sorted_corr)"
      ],
      "execution_count": null,
      "outputs": [
        {
          "output_type": "stream",
          "text": [
            "NIKKEI     0.393225\n",
            "BOVESPA    0.446889\n",
            "SP         0.449561\n",
            "DAX        0.629218\n",
            "FTSE       0.648740\n",
            "EU         0.690761\n",
            "EM         0.701954\n",
            "ISE.1      1.000000\n",
            "Name: ISE.1, dtype: float64\n"
          ],
          "name": "stdout"
        }
      ]
    },
    {
      "cell_type": "markdown",
      "metadata": {
        "id": "ULuU0I3k35Kf"
      },
      "source": [
        "It turns out EM, which is the MSCI Emerging Markets Index, correlates most strongly with our target variable.\n",
        "Let's look more closely at the relationship between EM and ISE."
      ]
    },
    {
      "cell_type": "code",
      "metadata": {
        "colab": {
          "base_uri": "https://localhost:8080/",
          "height": 295
        },
        "id": "N0IOjoJ4wTGX",
        "outputId": "9f05afb4-2416-4c20-abd2-552e9447e811"
      },
      "source": [
        "# plotting\n",
        "import matplotlib.pyplot as plt\n",
        "import seaborn as sns\n",
        "\n",
        "x = istanbul_stock_exchange['EM']\n",
        "y = istanbul_stock_exchange['ISE.1']\n",
        "\n",
        "plt.scatter(x, y, color='b')\n",
        "plt.title('ISE v/s EM')\n",
        "plt.xlabel('EM')\n",
        "plt.ylabel('ISE')\n",
        "plt.show()"
      ],
      "execution_count": null,
      "outputs": [
        {
          "output_type": "display_data",
          "data": {
            "image/png": "[encoded data removed]",
            "text/plain": [
              "<Figure size 432x288 with 1 Axes>"
            ]
          },
          "metadata": {
            "tags": [],
            "needs_background": "light"
          }
        }
      ]
    },
    {
      "cell_type": "markdown",
      "metadata": {
        "id": "CLXuKzMA4HOu"
      },
      "source": [
        "We can see a pattern in the scatter plot where higher values of X correspond to higher values of Y. \n",
        "This relationship is a good candidate for modeling through regression."
      ]
    },
    {
      "cell_type": "markdown",
      "metadata": {
        "id": "5sEu2uCakuKl"
      },
      "source": [
        "Below we have a scatter plot of the data points. We can observe that the more years of experience an employee has, the higher their salary. \n",
        "This is a linear relationship that can be estimated with simple linear relationship."
      ]
    },
    {
      "cell_type": "code",
      "metadata": {
        "id": "EdXkF5MpkuKu",
        "colab": {
          "base_uri": "https://localhost:8080/"
        },
        "outputId": "7d0877f2-8239-4cd0-ddbe-534e11a9beef"
      },
      "source": [
        "from sklearn.linear_model import LinearRegression\n",
        "\n",
        "# create an empty linear regression model\n",
        "simple_linear_model = LinearRegression()\n",
        "\n",
        "# determine values for the model using the fit method\n",
        "x = x.values.reshape(-1, 1)\n",
        "y = y.values.reshape(-1, 1)\n",
        "simple_linear_model.fit(x, y)"
      ],
      "execution_count": null,
      "outputs": [
        {
          "output_type": "execute_result",
          "data": {
            "text/plain": [
              "LinearRegression(copy_X=True, fit_intercept=True, n_jobs=None, normalize=False)"
            ]
          },
          "metadata": {
            "tags": []
          },
          "execution_count": 71
        }
      ]
    },
    {
      "cell_type": "markdown",
      "metadata": {
        "id": "CcFtzhaXkuKy"
      },
      "source": [
        "Using the fitted model we can make predictions along a line. Below these predictions are shown in red, and the obversed values are in blue. "
      ]
    },
    {
      "cell_type": "code",
      "metadata": {
        "id": "jqJCOO3NkuKz",
        "colab": {
          "base_uri": "https://localhost:8080/",
          "height": 295
        },
        "outputId": "e8885865-e85e-4949-fc98-c82045a1a2c3"
      },
      "source": [
        "y_pred = simple_linear_model.predict(x)\n",
        "plt.scatter(x, y, color='b')\n",
        "plt.plot(x, y_pred, color='r')\n",
        "plt.title('ISE v/s EM')\n",
        "plt.xlabel('EM')\n",
        "plt.ylabel('ISE')\n",
        "plt.show()"
      ],
      "execution_count": null,
      "outputs": [
        {
          "output_type": "display_data",
          "data": {
            "image/png": "[encoded data removed]",
            "text/plain": [
              "<Figure size 432x288 with 1 Axes>"
            ]
          },
          "metadata": {
            "tags": [],
            "needs_background": "light"
          }
        }
      ]
    },
    {
      "cell_type": "code",
      "metadata": {
        "id": "9BaRMMgBkuK3",
        "colab": {
          "base_uri": "https://localhost:8080/"
        },
        "outputId": "941e581a-e503-470b-a99c-8f619166744a"
      },
      "source": [
        "# The coefficients\n",
        "print('Coefficients: \\n', linear_model.coef_)"
      ],
      "execution_count": null,
      "outputs": [
        {
          "output_type": "stream",
          "text": [
            "Coefficients: \n",
            " [[1.4119039]]\n"
          ],
          "name": "stdout"
        }
      ]
    },
    {
      "cell_type": "markdown",
      "metadata": {
        "id": "WokXo_DH5jrJ"
      },
      "source": [
        "## Multiple Linear Regression\n",
        "\n",
        "We can try to make better predictions of the ISE by using more variables. \n",
        "For example, we can include also the London, Berlin and European stock exchanges. "
      ]
    },
    {
      "cell_type": "code",
      "metadata": {
        "colab": {
          "base_uri": "https://localhost:8080/"
        },
        "id": "Gdv3WeKF5r06",
        "outputId": "6950665b-039d-4163-e260-983d70084b8c"
      },
      "source": [
        "all_x = istanbul_stock_exchange[['EM', 'FTSE', 'DAX', 'EU']].values\n",
        "\n",
        "multi_lm = LinearRegression()\n",
        "multi_lm.fit(all_x, y)\n",
        "print('Coefficients: \\n', multi_lm.coef_)"
      ],
      "execution_count": 93,
      "outputs": [
        {
          "output_type": "stream",
          "text": [
            "Coefficients: \n",
            " [[ 0.85636536 -0.2198249  -0.2114325   1.05226713]]\n"
          ],
          "name": "stdout"
        }
      ]
    },
    {
      "cell_type": "markdown",
      "metadata": {
        "id": "22kY-4Hv7zq5"
      },
      "source": [
        "## Evaluation\n",
        "\n",
        "To compare our two models, we can use the R-squared score. This score, also called the coefficient of determination, measures the proportion of the variance in the dependent variable that is predictable from the independent variables. In our case, the scores tell us that involving the European stock indices predicts the target variable a bit better."
      ]
    },
    {
      "cell_type": "code",
      "metadata": {
        "colab": {
          "base_uri": "https://localhost:8080/"
        },
        "id": "JFvESjHT8Jxr",
        "outputId": "57de3512-eb5d-495d-d418-bb399e420b8e"
      },
      "source": [
        "simple_r2 = simple_linear_model.score(x, y)\n",
        "multi_r2 = multi_lm.score(all_x, y)\n",
        "print(simple_r2, multi_r2)"
      ],
      "execution_count": 95,
      "outputs": [
        {
          "output_type": "stream",
          "text": [
            "0.49273911814732885 0.5687491681150642\n"
          ],
          "name": "stdout"
        }
      ]
    }
  ]
}
